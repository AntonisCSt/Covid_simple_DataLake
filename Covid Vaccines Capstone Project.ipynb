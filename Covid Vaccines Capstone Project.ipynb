{
 "cells": [
  {
   "cell_type": "markdown",
   "metadata": {
    "editable": true
   },
   "source": [
    "\n",
    "# Data Engineering Capstone Project: COVID-19 World Vaccination Progress\n",
    "#### Daily and Total Vaccination for COVID-19 in the World\n",
    "\n",
    "\n",
    "\n",
    "\n"
   ]
  },
  {
   "cell_type": "markdown",
   "metadata": {
    "editable": true
   },
   "source": [
    "### Sources:\n",
    "* Vaccinations : https://www.kaggle.com/gpreda/covid-world-vaccination-progress\n",
    "\n",
    "* Demographics : https://www.oecd-ilibrary.org/social-issues-migration-health/health-spending/indicator/english_8643de7e-en\n",
    "\n",
    "* Covid-19 cases: https://data.world/covid-19-data-resource-hub/covid-19-case-counts/workspace/file?filename=COVID-19+Activity.csv"
   ]
  },
  {
   "cell_type": "markdown",
   "metadata": {
    "editable": true
   },
   "source": [
    "The project follows the follow steps:\n",
    "* Step 1: Scope the Project and Gather Data\n",
    "* Step 2: Explore and Assess the Data\n",
    "* Step 3: Define the Data Model\n",
    "* Step 4: Run ETL to Model the Data\n",
    "* Step 5: Complete Project Write Up"
   ]
  },
  {
   "cell_type": "code",
   "execution_count": 1,
   "metadata": {
    "editable": true
   },
   "outputs": [],
   "source": [
    "# Do all imports and installs here\n",
    "import pandas as pd\n",
    "#for getting data from kaggle\n",
    "import requests\n",
    "import io\n",
    "import os\n",
    "from pyspark.sql.functions import to_timestamp\n"
   ]
  },
  {
   "cell_type": "code",
   "execution_count": 2,
   "metadata": {
    "editable": true
   },
   "outputs": [],
   "source": [
    "#output partition data directory\n",
    "output_data = 'data/outputs/vaccine_data'"
   ]
  },
  {
   "cell_type": "markdown",
   "metadata": {
    "editable": true
   },
   "source": [
    "## 1 Scope the Project and Data decription\n",
    "\n",
    "#### Scope \n",
    "What is the goal of this mini-project?\n",
    "* The goal of this project is to gather data regarding the covid-19 cases, vaccination processes and demographics. We would like to create a DataLake that extracts the data from online sources and loads them into a database that can be used for analytics or any other data app.\n",
    "\n",
    "What data do we use?\n",
    "\n",
    "We use data from:\n",
    "* OECD library regarding the demographics of the countries\n",
    "* Dataworld for the covid-19 cases in all countries\n",
    "* Vaccination processes from github sources\n",
    "\n",
    "What is the end solution look like?\n",
    "\n",
    "* It will be a etl.py script that will extract the covid data from the online sources and will create partition data in the data/outputs file directory\n",
    "\n",
    "What tools did we use?\n",
    "\n",
    "* Due to the big amount of data and the need of computationaly expensive queries, we used spark and aws.\n"
   ]
  },
  {
   "cell_type": "markdown",
   "metadata": {
    "editable": true
   },
   "source": [
    "\n",
    "## 1.1 Data"
   ]
  },
  {
   "cell_type": "code",
   "execution_count": 3,
   "metadata": {
    "editable": true
   },
   "outputs": [],
   "source": [
    "covid_cases = \"https://download.data.world/s/s65p7s2aqym4qams7ub2n4b72e5e4h\"\n",
    "covid_cases2 = \"https://data.world/covid-19-data-resource-hub/covid-19-case-counts/workspace/file?filename=COVID-19+Activity.csv\""
   ]
  },
  {
   "cell_type": "code",
   "execution_count": 4,
   "metadata": {
    "editable": true
   },
   "outputs": [
    {
     "name": "stderr",
     "output_type": "stream",
     "text": [
      "/opt/conda/lib/python3.6/site-packages/IPython/core/interactiveshell.py:2785: DtypeWarning: Columns (1) have mixed types. Specify dtype option on import or set low_memory=False.\n",
      "  interactivity=interactivity, compiler=compiler, result=result)\n"
     ]
    }
   ],
   "source": [
    "df_cases = pd.read_csv(covid_cases)"
   ]
  },
  {
   "cell_type": "code",
   "execution_count": 5,
   "metadata": {
    "editable": true
   },
   "outputs": [
    {
     "data": {
      "text/html": [
       "<div>\n",
       "<style scoped>\n",
       "    .dataframe tbody tr th:only-of-type {\n",
       "        vertical-align: middle;\n",
       "    }\n",
       "\n",
       "    .dataframe tbody tr th {\n",
       "        vertical-align: top;\n",
       "    }\n",
       "\n",
       "    .dataframe thead th {\n",
       "        text-align: right;\n",
       "    }\n",
       "</style>\n",
       "<table border=\"1\" class=\"dataframe\">\n",
       "  <thead>\n",
       "    <tr style=\"text-align: right;\">\n",
       "      <th></th>\n",
       "      <th>people_positive_cases_count</th>\n",
       "      <th>county_name</th>\n",
       "      <th>province_state_name</th>\n",
       "      <th>report_date</th>\n",
       "      <th>continent_name</th>\n",
       "      <th>data_source_name</th>\n",
       "      <th>people_death_new_count</th>\n",
       "      <th>county_fips_number</th>\n",
       "      <th>country_alpha_3_code</th>\n",
       "      <th>country_short_name</th>\n",
       "      <th>country_alpha_2_code</th>\n",
       "      <th>people_positive_new_cases_count</th>\n",
       "      <th>people_death_count</th>\n",
       "    </tr>\n",
       "  </thead>\n",
       "  <tbody>\n",
       "    <tr>\n",
       "      <th>0</th>\n",
       "      <td>18046</td>\n",
       "      <td>Kenosha</td>\n",
       "      <td>Wisconsin</td>\n",
       "      <td>2021-04-26</td>\n",
       "      <td>America</td>\n",
       "      <td>New York Times</td>\n",
       "      <td>0</td>\n",
       "      <td>55059.0</td>\n",
       "      <td>USA</td>\n",
       "      <td>United States</td>\n",
       "      <td>US</td>\n",
       "      <td>3</td>\n",
       "      <td>321</td>\n",
       "    </tr>\n",
       "    <tr>\n",
       "      <th>1</th>\n",
       "      <td>18096</td>\n",
       "      <td>Kenosha</td>\n",
       "      <td>Wisconsin</td>\n",
       "      <td>2021-04-27</td>\n",
       "      <td>America</td>\n",
       "      <td>New York Times</td>\n",
       "      <td>0</td>\n",
       "      <td>55059.0</td>\n",
       "      <td>USA</td>\n",
       "      <td>United States</td>\n",
       "      <td>US</td>\n",
       "      <td>50</td>\n",
       "      <td>321</td>\n",
       "    </tr>\n",
       "    <tr>\n",
       "      <th>2</th>\n",
       "      <td>18123</td>\n",
       "      <td>Kenosha</td>\n",
       "      <td>Wisconsin</td>\n",
       "      <td>2021-04-28</td>\n",
       "      <td>America</td>\n",
       "      <td>New York Times</td>\n",
       "      <td>1</td>\n",
       "      <td>55059.0</td>\n",
       "      <td>USA</td>\n",
       "      <td>United States</td>\n",
       "      <td>US</td>\n",
       "      <td>27</td>\n",
       "      <td>322</td>\n",
       "    </tr>\n",
       "    <tr>\n",
       "      <th>3</th>\n",
       "      <td>18148</td>\n",
       "      <td>Kenosha</td>\n",
       "      <td>Wisconsin</td>\n",
       "      <td>2021-04-29</td>\n",
       "      <td>America</td>\n",
       "      <td>New York Times</td>\n",
       "      <td>0</td>\n",
       "      <td>55059.0</td>\n",
       "      <td>USA</td>\n",
       "      <td>United States</td>\n",
       "      <td>US</td>\n",
       "      <td>25</td>\n",
       "      <td>322</td>\n",
       "    </tr>\n",
       "    <tr>\n",
       "      <th>4</th>\n",
       "      <td>18163</td>\n",
       "      <td>Kenosha</td>\n",
       "      <td>Wisconsin</td>\n",
       "      <td>2021-04-30</td>\n",
       "      <td>America</td>\n",
       "      <td>New York Times</td>\n",
       "      <td>0</td>\n",
       "      <td>55059.0</td>\n",
       "      <td>USA</td>\n",
       "      <td>United States</td>\n",
       "      <td>US</td>\n",
       "      <td>15</td>\n",
       "      <td>322</td>\n",
       "    </tr>\n",
       "  </tbody>\n",
       "</table>\n",
       "</div>"
      ],
      "text/plain": [
       "   people_positive_cases_count county_name province_state_name report_date  \\\n",
       "0                        18046     Kenosha           Wisconsin  2021-04-26   \n",
       "1                        18096     Kenosha           Wisconsin  2021-04-27   \n",
       "2                        18123     Kenosha           Wisconsin  2021-04-28   \n",
       "3                        18148     Kenosha           Wisconsin  2021-04-29   \n",
       "4                        18163     Kenosha           Wisconsin  2021-04-30   \n",
       "\n",
       "  continent_name data_source_name  people_death_new_count  county_fips_number  \\\n",
       "0        America   New York Times                       0             55059.0   \n",
       "1        America   New York Times                       0             55059.0   \n",
       "2        America   New York Times                       1             55059.0   \n",
       "3        America   New York Times                       0             55059.0   \n",
       "4        America   New York Times                       0             55059.0   \n",
       "\n",
       "  country_alpha_3_code country_short_name country_alpha_2_code  \\\n",
       "0                  USA      United States                   US   \n",
       "1                  USA      United States                   US   \n",
       "2                  USA      United States                   US   \n",
       "3                  USA      United States                   US   \n",
       "4                  USA      United States                   US   \n",
       "\n",
       "   people_positive_new_cases_count  people_death_count  \n",
       "0                                3                 321  \n",
       "1                               50                 321  \n",
       "2                               27                 322  \n",
       "3                               25                 322  \n",
       "4                               15                 322  "
      ]
     },
     "execution_count": 5,
     "metadata": {},
     "output_type": "execute_result"
    }
   ],
   "source": [
    "df_cases.head()"
   ]
  },
  {
   "cell_type": "code",
   "execution_count": 6,
   "metadata": {
    "editable": true
   },
   "outputs": [],
   "source": [
    "df_cases = df_cases[['report_date','continent_name','country_alpha_3_code','people_positive_new_cases_count','people_death_new_count']]"
   ]
  },
  {
   "cell_type": "code",
   "execution_count": 7,
   "metadata": {
    "editable": true
   },
   "outputs": [],
   "source": [
    "df_cases['country_alpha_3_code'] = df_cases['country_alpha_3_code'].fillna('unknown')\n",
    "df_cases['continent_name'] = df_cases['continent_name'].fillna('unknown')"
   ]
  },
  {
   "cell_type": "code",
   "execution_count": 10,
   "metadata": {
    "editable": true
   },
   "outputs": [],
   "source": [
    "#pickle.dump(some_obj, f)"
   ]
  },
  {
   "cell_type": "code",
   "execution_count": 11,
   "metadata": {
    "editable": true
   },
   "outputs": [
    {
     "data": {
      "text/plain": [
       "1683875"
      ]
     },
     "execution_count": 11,
     "metadata": {},
     "output_type": "execute_result"
    }
   ],
   "source": [
    "len(df_cases)"
   ]
  },
  {
   "cell_type": "code",
   "execution_count": 8,
   "metadata": {
    "editable": true
   },
   "outputs": [],
   "source": [
    "# Read in the data here\n",
    "url_vac_by_manu = \"https://raw.githubusercontent.com/owid/covid-19-data/master/public/data/vaccinations/vaccinations-by-manufacturer.csv\"\n",
    "\n",
    "url_vac = \"https://raw.githubusercontent.com/owid/covid-19-data/master/public/data/vaccinations/vaccinations.csv\"\n",
    "#url_covid_full_json = \"https://covid.ourworldindata.org/data/owid-covid-data.json\"\n"
   ]
  },
  {
   "cell_type": "code",
   "execution_count": 13,
   "metadata": {
    "editable": true
   },
   "outputs": [],
   "source": [
    "#df_vac_by_manufacturer = pd.read_csv(url_vac_by_manu,sep=',')\n",
    "#df_vac = pd.read_csv(url_vac,sep=',')"
   ]
  },
  {
   "cell_type": "code",
   "execution_count": 14,
   "metadata": {
    "editable": true
   },
   "outputs": [],
   "source": [
    "#df_vac_by_manufacturer.head()"
   ]
  },
  {
   "cell_type": "code",
   "execution_count": null,
   "metadata": {
    "editable": true
   },
   "outputs": [],
   "source": [
    "#df_vac.head()"
   ]
  },
  {
   "cell_type": "code",
   "execution_count": null,
   "metadata": {
    "editable": true
   },
   "outputs": [],
   "source": [
    "len(df_vac)"
   ]
  },
  {
   "cell_type": "code",
   "execution_count": null,
   "metadata": {
    "editable": true
   },
   "outputs": [],
   "source": [
    "#df_GDPR = pd.read_csv(url_cases_and_deaths)\n",
    "#df_GDPR.head()"
   ]
  },
  {
   "cell_type": "markdown",
   "metadata": {
    "editable": true
   },
   "source": [
    "### 1.2 Spark"
   ]
  },
  {
   "cell_type": "markdown",
   "metadata": {
    "editable": true
   },
   "source": [
    "We are creating a spark session"
   ]
  },
  {
   "cell_type": "code",
   "execution_count": 9,
   "metadata": {
    "editable": true
   },
   "outputs": [],
   "source": [
    "\n",
    "from pyspark.sql import SparkSession\n",
    "from pyspark import SparkFiles\n",
    "\n",
    "spark = SparkSession.builder.appName(\"Vaccination_database\").getOrCreate()\n",
    "\n",
    "#df_spark =spark.read.load('../../data/18-83510-I94-Data-2016/i94_apr16_sub.sas7bdat')\n",
    "\n"
   ]
  },
  {
   "cell_type": "markdown",
   "metadata": {
    "editable": true
   },
   "source": [
    "#### Read and save dataset covid cases"
   ]
  },
  {
   "cell_type": "code",
   "execution_count": 10,
   "metadata": {
    "editable": true
   },
   "outputs": [],
   "source": [
    "#spark.sparkContext.addFile(covid_cases)\n",
    "\n",
    "df_spark_cases = spark.createDataFrame(df_cases)\n"
   ]
  },
  {
   "cell_type": "code",
   "execution_count": 11,
   "metadata": {
    "editable": true
   },
   "outputs": [
    {
     "name": "stdout",
     "output_type": "stream",
     "text": [
      "+-----------+--------------+--------------------+-------------------------------+----------------------+\n",
      "|report_date|continent_name|country_alpha_3_code|people_positive_new_cases_count|people_death_new_count|\n",
      "+-----------+--------------+--------------------+-------------------------------+----------------------+\n",
      "| 2021-04-26|       America|                 USA|                              3|                     0|\n",
      "| 2021-04-27|       America|                 USA|                             50|                     0|\n",
      "| 2021-04-28|       America|                 USA|                             27|                     1|\n",
      "| 2021-04-29|       America|                 USA|                             25|                     0|\n",
      "| 2021-04-30|       America|                 USA|                             15|                     0|\n",
      "+-----------+--------------+--------------------+-------------------------------+----------------------+\n",
      "only showing top 5 rows\n",
      "\n"
     ]
    }
   ],
   "source": [
    "df_spark_cases.show(5)"
   ]
  },
  {
   "cell_type": "markdown",
   "metadata": {
    "editable": true
   },
   "source": [
    "#### Read and save dataset vac_by_manu "
   ]
  },
  {
   "cell_type": "markdown",
   "metadata": {
    "editable": true
   },
   "source": [
    "\n"
   ]
  },
  {
   "cell_type": "code",
   "execution_count": 12,
   "metadata": {
    "editable": true
   },
   "outputs": [
    {
     "name": "stdout",
     "output_type": "stream",
     "text": [
      "+--------+-------------------+---------------+------------------+\n",
      "|location|               date|        vaccine|total_vaccinations|\n",
      "+--------+-------------------+---------------+------------------+\n",
      "|   Chile|2020-12-24 00:00:00|Pfizer/BioNTech|               420|\n",
      "|   Chile|2020-12-25 00:00:00|Pfizer/BioNTech|              5198|\n",
      "|   Chile|2020-12-26 00:00:00|Pfizer/BioNTech|              8338|\n",
      "|   Chile|2020-12-27 00:00:00|Pfizer/BioNTech|              8649|\n",
      "|   Chile|2020-12-28 00:00:00|Pfizer/BioNTech|              8649|\n",
      "+--------+-------------------+---------------+------------------+\n",
      "only showing top 5 rows\n",
      "\n"
     ]
    }
   ],
   "source": [
    "\n",
    "spark.sparkContext.addFile(url_vac_by_manu)\n",
    "df_spark_vac_by_manu = spark.read.csv(\"file://\"+SparkFiles.get(\"vaccinations-by-manufacturer.csv\"), header=True, inferSchema= True)\n",
    "df_spark_vac_by_manu.show(5)"
   ]
  },
  {
   "cell_type": "code",
   "execution_count": null,
   "metadata": {
    "editable": true
   },
   "outputs": [],
   "source": []
  },
  {
   "cell_type": "code",
   "execution_count": null,
   "metadata": {
    "editable": true
   },
   "outputs": [],
   "source": [
    "#write to parquet\n",
    "\n",
    "\n",
    "#df_spark.write.parquet(\"data/sas_data\")\n",
    "\n",
    "\n",
    "\n",
    "\n",
    "#df_spark=spark.read.parquet(\"sas_data\")"
   ]
  },
  {
   "cell_type": "markdown",
   "metadata": {
    "editable": true
   },
   "source": [
    "#### Read and save dataset vac"
   ]
  },
  {
   "cell_type": "code",
   "execution_count": 13,
   "metadata": {
    "editable": true
   },
   "outputs": [
    {
     "name": "stdout",
     "output_type": "stream",
     "text": [
      "+-----------+--------+-------------------+------------------+-----------------+-----------------------+----------------------+------------------+------------------------------+-----------------------------+-----------------------------------+------------------------------+\n",
      "|   location|iso_code|               date|total_vaccinations|people_vaccinated|people_fully_vaccinated|daily_vaccinations_raw|daily_vaccinations|total_vaccinations_per_hundred|people_vaccinated_per_hundred|people_fully_vaccinated_per_hundred|daily_vaccinations_per_million|\n",
      "+-----------+--------+-------------------+------------------+-----------------+-----------------------+----------------------+------------------+------------------------------+-----------------------------+-----------------------------------+------------------------------+\n",
      "|Afghanistan|     AFG|2021-02-22 00:00:00|                 0|                0|                   null|                  null|              null|                           0.0|                          0.0|                               null|                          null|\n",
      "|Afghanistan|     AFG|2021-02-23 00:00:00|              null|             null|                   null|                  null|              1367|                          null|                         null|                               null|                            35|\n",
      "|Afghanistan|     AFG|2021-02-24 00:00:00|              null|             null|                   null|                  null|              1367|                          null|                         null|                               null|                            35|\n",
      "|Afghanistan|     AFG|2021-02-25 00:00:00|              null|             null|                   null|                  null|              1367|                          null|                         null|                               null|                            35|\n",
      "|Afghanistan|     AFG|2021-02-26 00:00:00|              null|             null|                   null|                  null|              1367|                          null|                         null|                               null|                            35|\n",
      "+-----------+--------+-------------------+------------------+-----------------+-----------------------+----------------------+------------------+------------------------------+-----------------------------+-----------------------------------+------------------------------+\n",
      "only showing top 5 rows\n",
      "\n"
     ]
    }
   ],
   "source": [
    "spark.sparkContext.addFile(url_vac)\n",
    "\n",
    "df_spark_vac = spark.read.csv(\"file://\"+SparkFiles.get(\"vaccinations.csv\"), header=True, inferSchema= True)\n",
    "df_spark_vac.show(5)"
   ]
  },
  {
   "cell_type": "markdown",
   "metadata": {
    "editable": true
   },
   "source": [
    "#### Read and save GDPR"
   ]
  },
  {
   "cell_type": "code",
   "execution_count": 14,
   "metadata": {
    "editable": true
   },
   "outputs": [],
   "source": [
    "df_spark_GDPR =spark.read.csv(\n",
    "    'Health spendings per country GDPR percentage.csv', \n",
    "    header=True, \n",
    "    inferSchema= True\n",
    ")"
   ]
  },
  {
   "cell_type": "code",
   "execution_count": 15,
   "metadata": {
    "editable": true
   },
   "outputs": [
    {
     "name": "stdout",
     "output_type": "stream",
     "text": [
      "+--------+---------+-------+-------+---------+----+------+----------+\n",
      "|LOCATION|INDICATOR|SUBJECT|MEASURE|FREQUENCY|TIME| Value|Flag Codes|\n",
      "+--------+---------+-------+-------+---------+----+------+----------+\n",
      "|     AUS|      POP|    TOT| AGRWTH|        A|1951|2.9711|      null|\n",
      "|     AUS|      POP|    TOT| AGRWTH|        A|1952|2.5505|      null|\n",
      "|     AUS|      POP|    TOT| AGRWTH|        A|1953|2.0702|      null|\n",
      "|     AUS|      POP|    TOT| AGRWTH|        A|1954| 1.942|      null|\n",
      "|     AUS|      POP|    TOT| AGRWTH|        A|1955|2.3724|      null|\n",
      "+--------+---------+-------+-------+---------+----+------+----------+\n",
      "only showing top 5 rows\n",
      "\n"
     ]
    }
   ],
   "source": [
    "df_spark_GDPR.show(5)"
   ]
  },
  {
   "cell_type": "code",
   "execution_count": null,
   "metadata": {
    "editable": true
   },
   "outputs": [],
   "source": [
    "#requires aggregation"
   ]
  },
  {
   "cell_type": "markdown",
   "metadata": {
    "editable": true
   },
   "source": [
    "### 2 Explore and Assess the Data\n",
    "#### Exploring the Data \n",
    "We identify data quality issues, like missing values, duplicate data, etc.\n",
    "\n"
   ]
  },
  {
   "cell_type": "code",
   "execution_count": null,
   "metadata": {
    "editable": true
   },
   "outputs": [],
   "source": [
    "#Covid Cases"
   ]
  },
  {
   "cell_type": "code",
   "execution_count": 23,
   "metadata": {
    "editable": true
   },
   "outputs": [
    {
     "name": "stdout",
     "output_type": "stream",
     "text": [
      "+-------+-----------+--------------+--------------------+-------------------------------+----------------------+\n",
      "|summary|report_date|continent_name|country_alpha_3_code|people_positive_new_cases_count|people_death_new_count|\n",
      "+-------+-----------+--------------+--------------------+-------------------------------+----------------------+\n",
      "|  count|    1683875|       1683875|             1683875|                        1683875|               1683875|\n",
      "|   mean|       null|          null|                null|              94.04136886645387|    1.9552425209709747|\n",
      "| stddev|       null|          null|                null|              1979.551147663271|     33.45775875787036|\n",
      "|    min| 2020-01-21|        Africa|                 ABW|                         -74347|                 -1918|\n",
      "|    max| 2021-05-09|       unknown|             unknown|                         823225|                  4249|\n",
      "+-------+-----------+--------------+--------------------+-------------------------------+----------------------+\n",
      "\n"
     ]
    }
   ],
   "source": [
    "df_spark_cases.describe().show()"
   ]
  },
  {
   "cell_type": "code",
   "execution_count": 24,
   "metadata": {
    "editable": true
   },
   "outputs": [
    {
     "name": "stdout",
     "output_type": "stream",
     "text": [
      "report_date \t with null values:  0\n",
      "continent_name \t with null values:  0\n",
      "country_alpha_3_code \t with null values:  0\n",
      "people_positive_new_cases_count \t with null values:  0\n",
      "people_death_new_count \t with null values:  0\n"
     ]
    }
   ],
   "source": [
    "for col in df_spark_cases.columns:\n",
    "    print(col, \"\\t\", \"with null values: \", df_spark_cases.filter(df_spark_cases[col].isNull()).count())"
   ]
  },
  {
   "cell_type": "code",
   "execution_count": 25,
   "metadata": {
    "editable": true
   },
   "outputs": [
    {
     "name": "stdout",
     "output_type": "stream",
     "text": [
      "report_date \t with unknown values:  0\n",
      "continent_name \t with unknown values:  1900\n",
      "country_alpha_3_code \t with unknown values:  1900\n",
      "people_positive_new_cases_count \t with unknown values:  0\n",
      "people_death_new_count \t with unknown values:  0\n"
     ]
    }
   ],
   "source": [
    "for col in df_spark_cases.columns:\n",
    "    print(col, \"\\t\", \"with unknown values: \", df_spark_cases.filter(df_spark_cases[col] == 'unknown').count())"
   ]
  },
  {
   "cell_type": "code",
   "execution_count": 26,
   "metadata": {
    "editable": true
   },
   "outputs": [
    {
     "data": {
      "text/plain": [
       "[Row(report_date='2020-11-15', continent_name='unknown', country_alpha_3_code='unknown', people_positive_new_cases_count=0, people_death_new_count=0),\n",
       " Row(report_date='2021-02-10', continent_name='unknown', country_alpha_3_code='unknown', people_positive_new_cases_count=0, people_death_new_count=0),\n",
       " Row(report_date='2020-11-05', continent_name='unknown', country_alpha_3_code='unknown', people_positive_new_cases_count=0, people_death_new_count=0),\n",
       " Row(report_date='2020-07-25', continent_name='unknown', country_alpha_3_code='unknown', people_positive_new_cases_count=0, people_death_new_count=0),\n",
       " Row(report_date='2021-03-05', continent_name='unknown', country_alpha_3_code='unknown', people_positive_new_cases_count=0, people_death_new_count=0)]"
      ]
     },
     "execution_count": 26,
     "metadata": {},
     "output_type": "execute_result"
    }
   ],
   "source": [
    "col = 'continent_name'\n",
    "df_filtered=df_spark_cases.filter(df_spark_cases[col] == 'unknown')\n",
    "df_filtered.head(5)"
   ]
  },
  {
   "cell_type": "code",
   "execution_count": null,
   "metadata": {
    "editable": true
   },
   "outputs": [],
   "source": []
  },
  {
   "cell_type": "markdown",
   "metadata": {
    "editable": true
   },
   "source": [
    "#### Cleaning Steps\n",
    "Document steps necessary to clean the data\n"
   ]
  },
  {
   "cell_type": "code",
   "execution_count": null,
   "metadata": {
    "editable": true
   },
   "outputs": [],
   "source": [
    "#Covid Cases"
   ]
  },
  {
   "cell_type": "code",
   "execution_count": 16,
   "metadata": {
    "editable": true
   },
   "outputs": [
    {
     "name": "stdout",
     "output_type": "stream",
     "text": [
      "+-----------+--------------+--------------------+-------------------------------+----------------------+\n",
      "|report_date|continent_name|country_alpha_3_code|people_positive_new_cases_count|people_death_new_count|\n",
      "+-----------+--------------+--------------------+-------------------------------+----------------------+\n",
      "| 2021-04-26|       America|                 USA|                              3|                     0|\n",
      "| 2021-04-27|       America|                 USA|                             50|                     0|\n",
      "| 2021-04-28|       America|                 USA|                             27|                     1|\n",
      "| 2021-04-29|       America|                 USA|                             25|                     0|\n",
      "| 2021-04-30|       America|                 USA|                             15|                     0|\n",
      "+-----------+--------------+--------------------+-------------------------------+----------------------+\n",
      "only showing top 5 rows\n",
      "\n"
     ]
    }
   ],
   "source": [
    "# We observed that features with the uknown value offer no information (all features are also 'uknown') so we will skip those instances\n",
    "col = 'continent_name'\n",
    "df_spark_cases = df_spark_cases.filter(df_spark_cases[col] != 'unknown')\n",
    "df_spark_cases.show(5)"
   ]
  },
  {
   "cell_type": "markdown",
   "metadata": {
    "editable": true
   },
   "source": [
    "### Schema print for all tables"
   ]
  },
  {
   "cell_type": "code",
   "execution_count": 28,
   "metadata": {
    "editable": true
   },
   "outputs": [
    {
     "name": "stdout",
     "output_type": "stream",
     "text": [
      "+--------+-------------------+---------------+------------------+\n",
      "|location|               date|        vaccine|total_vaccinations|\n",
      "+--------+-------------------+---------------+------------------+\n",
      "|   Chile|2020-12-24 00:00:00|Pfizer/BioNTech|               420|\n",
      "|   Chile|2020-12-25 00:00:00|Pfizer/BioNTech|              5198|\n",
      "|   Chile|2020-12-26 00:00:00|Pfizer/BioNTech|              8338|\n",
      "|   Chile|2020-12-27 00:00:00|Pfizer/BioNTech|              8649|\n",
      "|   Chile|2020-12-28 00:00:00|Pfizer/BioNTech|              8649|\n",
      "+--------+-------------------+---------------+------------------+\n",
      "only showing top 5 rows\n",
      "\n"
     ]
    }
   ],
   "source": [
    "df_spark_vac_by_manu.show(5)"
   ]
  },
  {
   "cell_type": "code",
   "execution_count": 29,
   "metadata": {
    "editable": true
   },
   "outputs": [
    {
     "data": {
      "text/plain": [
       "<bound method DataFrame.printSchema of DataFrame[location: string, date: timestamp, vaccine: string, total_vaccinations: int]>"
      ]
     },
     "execution_count": 29,
     "metadata": {},
     "output_type": "execute_result"
    }
   ],
   "source": [
    "df_spark_vac_by_manu.printSchema"
   ]
  },
  {
   "cell_type": "code",
   "execution_count": 30,
   "metadata": {
    "editable": true
   },
   "outputs": [
    {
     "name": "stdout",
     "output_type": "stream",
     "text": [
      "+-----------+--------+-------------------+------------------+-----------------+-----------------------+----------------------+------------------+------------------------------+-----------------------------+-----------------------------------+------------------------------+\n",
      "|   location|iso_code|               date|total_vaccinations|people_vaccinated|people_fully_vaccinated|daily_vaccinations_raw|daily_vaccinations|total_vaccinations_per_hundred|people_vaccinated_per_hundred|people_fully_vaccinated_per_hundred|daily_vaccinations_per_million|\n",
      "+-----------+--------+-------------------+------------------+-----------------+-----------------------+----------------------+------------------+------------------------------+-----------------------------+-----------------------------------+------------------------------+\n",
      "|Afghanistan|     AFG|2021-02-22 00:00:00|                 0|                0|                   null|                  null|              null|                           0.0|                          0.0|                               null|                          null|\n",
      "|Afghanistan|     AFG|2021-02-23 00:00:00|              null|             null|                   null|                  null|              1367|                          null|                         null|                               null|                            35|\n",
      "|Afghanistan|     AFG|2021-02-24 00:00:00|              null|             null|                   null|                  null|              1367|                          null|                         null|                               null|                            35|\n",
      "|Afghanistan|     AFG|2021-02-25 00:00:00|              null|             null|                   null|                  null|              1367|                          null|                         null|                               null|                            35|\n",
      "|Afghanistan|     AFG|2021-02-26 00:00:00|              null|             null|                   null|                  null|              1367|                          null|                         null|                               null|                            35|\n",
      "+-----------+--------+-------------------+------------------+-----------------+-----------------------+----------------------+------------------+------------------------------+-----------------------------+-----------------------------------+------------------------------+\n",
      "only showing top 5 rows\n",
      "\n"
     ]
    }
   ],
   "source": [
    "df_spark_vac.show(5)"
   ]
  },
  {
   "cell_type": "code",
   "execution_count": 31,
   "metadata": {
    "editable": true
   },
   "outputs": [
    {
     "data": {
      "text/plain": [
       "<bound method DataFrame.printSchema of DataFrame[location: string, iso_code: string, date: timestamp, total_vaccinations: int, people_vaccinated: int, people_fully_vaccinated: int, daily_vaccinations_raw: int, daily_vaccinations: int, total_vaccinations_per_hundred: double, people_vaccinated_per_hundred: double, people_fully_vaccinated_per_hundred: double, daily_vaccinations_per_million: int]>"
      ]
     },
     "execution_count": 31,
     "metadata": {},
     "output_type": "execute_result"
    }
   ],
   "source": [
    "df_spark_vac.printSchema"
   ]
  },
  {
   "cell_type": "code",
   "execution_count": 32,
   "metadata": {
    "editable": true
   },
   "outputs": [
    {
     "name": "stdout",
     "output_type": "stream",
     "text": [
      "+--------+---------+-------+-------+---------+----+------+----------+\n",
      "|LOCATION|INDICATOR|SUBJECT|MEASURE|FREQUENCY|TIME| Value|Flag Codes|\n",
      "+--------+---------+-------+-------+---------+----+------+----------+\n",
      "|     AUS|      POP|    TOT| AGRWTH|        A|1951|2.9711|      null|\n",
      "|     AUS|      POP|    TOT| AGRWTH|        A|1952|2.5505|      null|\n",
      "|     AUS|      POP|    TOT| AGRWTH|        A|1953|2.0702|      null|\n",
      "|     AUS|      POP|    TOT| AGRWTH|        A|1954| 1.942|      null|\n",
      "|     AUS|      POP|    TOT| AGRWTH|        A|1955|2.3724|      null|\n",
      "+--------+---------+-------+-------+---------+----+------+----------+\n",
      "only showing top 5 rows\n",
      "\n"
     ]
    }
   ],
   "source": [
    "df_spark_GDPR.show(5)"
   ]
  },
  {
   "cell_type": "code",
   "execution_count": 33,
   "metadata": {
    "editable": true
   },
   "outputs": [
    {
     "data": {
      "text/plain": [
       "<bound method DataFrame.printSchema of DataFrame[LOCATION: string, INDICATOR: string, SUBJECT: string, MEASURE: string, FREQUENCY: string, TIME: int, Value: double, Flag Codes: string]>"
      ]
     },
     "execution_count": 33,
     "metadata": {},
     "output_type": "execute_result"
    }
   ],
   "source": [
    "df_spark_GDPR.printSchema"
   ]
  },
  {
   "cell_type": "code",
   "execution_count": 34,
   "metadata": {
    "editable": true
   },
   "outputs": [
    {
     "name": "stdout",
     "output_type": "stream",
     "text": [
      "+-----------+--------------+--------------------+-------------------------------+----------------------+\n",
      "|report_date|continent_name|country_alpha_3_code|people_positive_new_cases_count|people_death_new_count|\n",
      "+-----------+--------------+--------------------+-------------------------------+----------------------+\n",
      "| 2020-09-16|       America|                 USA|                              2|                     0|\n",
      "| 2020-09-17|       America|                 USA|                              3|                     0|\n",
      "| 2020-09-18|       America|                 USA|                              0|                     0|\n",
      "| 2020-09-19|       America|                 USA|                              0|                     0|\n",
      "| 2020-09-20|       America|                 USA|                              0|                     0|\n",
      "+-----------+--------------+--------------------+-------------------------------+----------------------+\n",
      "only showing top 5 rows\n",
      "\n"
     ]
    }
   ],
   "source": [
    "df_spark_cases.show(5)"
   ]
  },
  {
   "cell_type": "code",
   "execution_count": 35,
   "metadata": {
    "editable": true
   },
   "outputs": [
    {
     "data": {
      "text/plain": [
       "<bound method DataFrame.printSchema of DataFrame[report_date: string, continent_name: string, country_alpha_3_code: string, people_positive_new_cases_count: bigint, people_death_new_count: bigint]>"
      ]
     },
     "execution_count": 35,
     "metadata": {},
     "output_type": "execute_result"
    }
   ],
   "source": [
    "df_spark_cases.printSchema"
   ]
  },
  {
   "cell_type": "code",
   "execution_count": null,
   "metadata": {
    "editable": true
   },
   "outputs": [],
   "source": []
  },
  {
   "cell_type": "markdown",
   "metadata": {
    "editable": true
   },
   "source": [
    "### Actions after schema"
   ]
  },
  {
   "cell_type": "code",
   "execution_count": 36,
   "metadata": {
    "editable": true
   },
   "outputs": [
    {
     "name": "stdout",
     "output_type": "stream",
     "text": [
      "+-------------------+\n",
      "|        report_date|\n",
      "+-------------------+\n",
      "|2020-09-16 00:00:00|\n",
      "|2020-09-17 00:00:00|\n",
      "|2020-09-18 00:00:00|\n",
      "|2020-09-19 00:00:00|\n",
      "|2020-09-20 00:00:00|\n",
      "|2020-09-21 00:00:00|\n",
      "|2020-09-22 00:00:00|\n",
      "|2020-09-23 00:00:00|\n",
      "|2020-09-24 00:00:00|\n",
      "|2020-09-25 00:00:00|\n",
      "|2020-09-26 00:00:00|\n",
      "|2020-09-27 00:00:00|\n",
      "|2020-09-28 00:00:00|\n",
      "|2020-09-29 00:00:00|\n",
      "|2020-09-30 00:00:00|\n",
      "|2020-10-01 00:00:00|\n",
      "|2020-10-02 00:00:00|\n",
      "|2020-10-03 00:00:00|\n",
      "|2020-10-04 00:00:00|\n",
      "|2020-10-05 00:00:00|\n",
      "+-------------------+\n",
      "only showing top 20 rows\n",
      "\n"
     ]
    }
   ],
   "source": [
    "#We have to transform the report date from df_spark_cases to daytime \n",
    "#(we are probably not going to use this infromation since we are going to aggregate it is nice to have)\n",
    "df_spark_cases.select(to_timestamp(df_spark_cases.report_date, 'yyyy-MM-dd').alias('report_date')).show()"
   ]
  },
  {
   "cell_type": "code",
   "execution_count": 17,
   "metadata": {
    "editable": true
   },
   "outputs": [],
   "source": [
    "df_spark_cases = df_spark_cases.withColumn('report_date', to_timestamp(df_spark_cases.report_date, 'yyyy-MM-dd'))"
   ]
  },
  {
   "cell_type": "code",
   "execution_count": 18,
   "metadata": {
    "editable": true
   },
   "outputs": [
    {
     "data": {
      "text/plain": [
       "<bound method DataFrame.printSchema of DataFrame[report_date: timestamp, continent_name: string, country_alpha_3_code: string, people_positive_new_cases_count: bigint, people_death_new_count: bigint]>"
      ]
     },
     "execution_count": 18,
     "metadata": {},
     "output_type": "execute_result"
    }
   ],
   "source": [
    "df_spark_cases.printSchema"
   ]
  },
  {
   "cell_type": "markdown",
   "metadata": {
    "editable": true
   },
   "source": [
    "### 3: Define the Data Model\n",
    "#### 3.1 Conceptual Data Model\n",
    "Map out the conceptual data model and explain why you chose that model\n"
   ]
  },
  {
   "cell_type": "markdown",
   "metadata": {
    "editable": true
   },
   "source": [
    "<img src=\"Schema_representation_of_data_lake.png\">"
   ]
  },
  {
   "cell_type": "markdown",
   "metadata": {
    "editable": true
   },
   "source": [
    "\n",
    "This model was chosen in order to separate key factors for the covid vaccinations, case progress and ecomonical factors. All those factors have their own table entity.\n",
    "The schema above is a equivalent representation if this project was a data werehouse. \n",
    "Since we have a datalake we partition those tables in order to be used by any user or app."
   ]
  },
  {
   "cell_type": "markdown",
   "metadata": {
    "editable": true
   },
   "source": [
    "#### 3.2 Mapping Out Data Pipelines\n",
    "Steps necessary to pipeline the data into the chosen data model:"
   ]
  },
  {
   "cell_type": "markdown",
   "metadata": {
    "editable": true
   },
   "source": [
    "* Extract data from the online and local sources\n",
    "* Clean data\n",
    "* Transform data and load them in to tables based on the star schema model\n",
    "* Partition data\n",
    "* Run Quality Checks"
   ]
  },
  {
   "cell_type": "code",
   "execution_count": null,
   "metadata": {
    "editable": true
   },
   "outputs": [],
   "source": []
  },
  {
   "cell_type": "markdown",
   "metadata": {
    "editable": true
   },
   "source": [
    "### Step 4: Run Pipelines to Model the Data \n",
    "#### 4.1 Creating the data model"
   ]
  },
  {
   "cell_type": "code",
   "execution_count": null,
   "metadata": {
    "editable": true
   },
   "outputs": [],
   "source": [
    "# 1)Group by covid cases data by country and create covid cases table"
   ]
  },
  {
   "cell_type": "code",
   "execution_count": 19,
   "metadata": {
    "editable": true
   },
   "outputs": [],
   "source": [
    "covid_cases = df_spark_cases.groupBy(\"country_alpha_3_code\")\\\n",
    ".sum(\"people_positive_new_cases_count\",\"people_death_new_count\")\n"
   ]
  },
  {
   "cell_type": "code",
   "execution_count": 20,
   "metadata": {
    "editable": true
   },
   "outputs": [],
   "source": [
    "covid_cases = covid_cases.withColumnRenamed(\"country_alpha_3_code\",\"country_code\")\n",
    "covid_cases = covid_cases.withColumnRenamed(\"sum(people_positive_new_cases_count)\",\"total_cases\")\n",
    "covid_cases = covid_cases.withColumnRenamed(\"sum(people_death_new_count)\",\"total_deaths\")"
   ]
  },
  {
   "cell_type": "code",
   "execution_count": 41,
   "metadata": {
    "editable": true
   },
   "outputs": [
    {
     "name": "stdout",
     "output_type": "stream",
     "text": [
      "+------------+-----------+------------+\n",
      "|country_code|total_cases|total_deaths|\n",
      "+------------+-----------+------------+\n",
      "|         HTI|      13164|         263|\n",
      "|         PSE|     301751|        3358|\n",
      "+------------+-----------+------------+\n",
      "only showing top 2 rows\n",
      "\n"
     ]
    }
   ],
   "source": [
    "covid_cases.show(2)"
   ]
  },
  {
   "cell_type": "code",
   "execution_count": 21,
   "metadata": {
    "editable": true
   },
   "outputs": [
    {
     "name": "stdout",
     "output_type": "stream",
     "text": [
      "covid_cases partitioned!\n"
     ]
    }
   ],
   "source": [
    "# Partition covid cases table\n",
    "covid_cases_par = covid_cases.write.partitionBy('country_code','total_cases').parquet(os.path.join(output_data, 'covid_cases.parquet'), 'overwrite')\n",
    "print(\"covid_cases partitioned!\")"
   ]
  },
  {
   "cell_type": "code",
   "execution_count": 43,
   "metadata": {
    "editable": true
   },
   "outputs": [],
   "source": [
    "# 2)Create vaccinations table"
   ]
  },
  {
   "cell_type": "code",
   "execution_count": 22,
   "metadata": {
    "editable": true
   },
   "outputs": [],
   "source": [
    "Vaccinations = df_spark_vac.select(\n",
    "    df_spark_vac.iso_code.alias('country_code'),   \n",
    "    df_spark_vac.date.alias('date_entry'),\n",
    "    df_spark_vac.people_vaccinated,\n",
    "    df_spark_vac.total_vaccinations,\n",
    "    df_spark_vac.people_fully_vaccinated,\n",
    "    df_spark_vac.daily_vaccinations,\n",
    "    df_spark_vac.daily_vaccinations_per_million)\n",
    "    \n"
   ]
  },
  {
   "cell_type": "code",
   "execution_count": 45,
   "metadata": {
    "editable": true
   },
   "outputs": [
    {
     "name": "stdout",
     "output_type": "stream",
     "text": [
      "+------------+-------------------+-----------------+------------------+-----------------------+------------------+------------------------------+\n",
      "|country_code|         date_entry|people_vaccinated|total_vaccinations|people_fully_vaccinated|daily_vaccinations|daily_vaccinations_per_million|\n",
      "+------------+-------------------+-----------------+------------------+-----------------------+------------------+------------------------------+\n",
      "|         AFG|2021-02-22 00:00:00|                0|                 0|                   null|              null|                          null|\n",
      "|         AFG|2021-02-23 00:00:00|             null|              null|                   null|              1367|                            35|\n",
      "|         AFG|2021-02-24 00:00:00|             null|              null|                   null|              1367|                            35|\n",
      "+------------+-------------------+-----------------+------------------+-----------------------+------------------+------------------------------+\n",
      "only showing top 3 rows\n",
      "\n"
     ]
    }
   ],
   "source": [
    "Vaccinations.show(3)"
   ]
  },
  {
   "cell_type": "code",
   "execution_count": 23,
   "metadata": {
    "editable": true
   },
   "outputs": [
    {
     "name": "stdout",
     "output_type": "stream",
     "text": [
      "Vaccinations partitioned!\n"
     ]
    }
   ],
   "source": [
    "# Partition Vaccinations table\n",
    "Vaccinations_par = Vaccinations.write.partitionBy('country_code').parquet(os.path.join(output_data, 'Vaccinations.parquet'), 'overwrite')\n",
    "print(\"Vaccinations partitioned!\")"
   ]
  },
  {
   "cell_type": "code",
   "execution_count": null,
   "metadata": {
    "editable": true
   },
   "outputs": [],
   "source": [
    "# 3)Create country info table"
   ]
  },
  {
   "cell_type": "code",
   "execution_count": 24,
   "metadata": {
    "editable": true
   },
   "outputs": [],
   "source": [
    "#df_spark_cases.sql(\"SELECT DISTINCT continent_name, country_alpha_3_code\").show(5)\n",
    "countries = df_spark_cases.select('continent_name', \"country_alpha_3_code\").distinct()\n"
   ]
  },
  {
   "cell_type": "code",
   "execution_count": 25,
   "metadata": {
    "editable": true
   },
   "outputs": [],
   "source": [
    "countries = countries.join(df_spark_vac,df_spark_vac.iso_code == countries.country_alpha_3_code)\\\n",
    "    .select(countries.country_alpha_3_code.alias('country_code'),\n",
    "        countries.continent_name,\n",
    "        df_spark_vac.location.alias('country_name'))"
   ]
  },
  {
   "cell_type": "code",
   "execution_count": 49,
   "metadata": {
    "editable": true
   },
   "outputs": [
    {
     "name": "stdout",
     "output_type": "stream",
     "text": [
      "+------------+--------------+------------+\n",
      "|country_code|continent_name|country_name|\n",
      "+------------+--------------+------------+\n",
      "|         SAU|          Asia|Saudi Arabia|\n",
      "|         SAU|          Asia|Saudi Arabia|\n",
      "|         SAU|          Asia|Saudi Arabia|\n",
      "+------------+--------------+------------+\n",
      "only showing top 3 rows\n",
      "\n"
     ]
    }
   ],
   "source": [
    "countries.show(3)"
   ]
  },
  {
   "cell_type": "code",
   "execution_count": 26,
   "metadata": {
    "editable": true
   },
   "outputs": [
    {
     "name": "stdout",
     "output_type": "stream",
     "text": [
      "countries partitioned!\n"
     ]
    }
   ],
   "source": [
    "# Partition country table\n",
    "countries_par = countries.write.partitionBy('country_code','continent_name').parquet(os.path.join(output_data, 'countries.parquet'), 'overwrite')\n",
    "print(\"countries partitioned!\")\n",
    "\n"
   ]
  },
  {
   "cell_type": "code",
   "execution_count": null,
   "metadata": {
    "editable": true
   },
   "outputs": [],
   "source": [
    "# 4)Create GDPR info table"
   ]
  },
  {
   "cell_type": "code",
   "execution_count": null,
   "metadata": {
    "editable": true
   },
   "outputs": [],
   "source": [
    "#<bound method DataFrame.printSchema of DataFrame[LOCATION: string, INDICATOR: string, SUBJECT: string, MEASURE: string, FREQUENCY: string, TIME: int, Value: double, Flag Codes: string]>"
   ]
  },
  {
   "cell_type": "code",
   "execution_count": 27,
   "metadata": {
    "editable": true
   },
   "outputs": [],
   "source": [
    "GDPR_info = df_spark_GDPR.select(\n",
    "    df_spark_GDPR.LOCATION.alias('country_code'),   \n",
    "    df_spark_GDPR.INDICATOR,\n",
    "    df_spark_GDPR.SUBJECT,\n",
    "    df_spark_GDPR.FREQUENCY,\n",
    "    df_spark_GDPR.TIME,\n",
    "    df_spark_GDPR.Value,\n",
    "    )\n",
    "    "
   ]
  },
  {
   "cell_type": "code",
   "execution_count": 52,
   "metadata": {
    "editable": true
   },
   "outputs": [
    {
     "name": "stdout",
     "output_type": "stream",
     "text": [
      "+------------+---------+-------+---------+----+------+\n",
      "|country_code|INDICATOR|SUBJECT|FREQUENCY|TIME| Value|\n",
      "+------------+---------+-------+---------+----+------+\n",
      "|         AUS|      POP|    TOT|        A|1951|2.9711|\n",
      "|         AUS|      POP|    TOT|        A|1952|2.5505|\n",
      "|         AUS|      POP|    TOT|        A|1953|2.0702|\n",
      "|         AUS|      POP|    TOT|        A|1954| 1.942|\n",
      "|         AUS|      POP|    TOT|        A|1955|2.3724|\n",
      "+------------+---------+-------+---------+----+------+\n",
      "only showing top 5 rows\n",
      "\n"
     ]
    }
   ],
   "source": [
    "GDPR_info.show(5)"
   ]
  },
  {
   "cell_type": "code",
   "execution_count": 28,
   "metadata": {
    "editable": true
   },
   "outputs": [
    {
     "name": "stdout",
     "output_type": "stream",
     "text": [
      "GDPR_info partitioned!\n"
     ]
    }
   ],
   "source": [
    "# Partition GDPR_info table\n",
    "\n",
    "GDPR_info_par = GDPR_info.write.partitionBy('country_code','TIME').parquet(os.path.join(output_data, 'GDPR.parquet'), 'overwrite')\n",
    "print(\"GDPR_info partitioned!\")\n",
    "\n"
   ]
  },
  {
   "cell_type": "markdown",
   "metadata": {
    "editable": true
   },
   "source": [
    "#### 4.2 Data Quality Checks"
   ]
  },
  {
   "cell_type": "markdown",
   "metadata": {
    "editable": true
   },
   "source": [
    "An important quality check query is to choose a country and check its covid vacciations and fully vaccination progress\n",
    "\n",
    "Here we check for Greece"
   ]
  },
  {
   "cell_type": "code",
   "execution_count": null,
   "metadata": {
    "editable": true
   },
   "outputs": [],
   "source": [
    "#load partitioned data "
   ]
  },
  {
   "cell_type": "code",
   "execution_count": 29,
   "metadata": {
    "editable": true
   },
   "outputs": [],
   "source": [
    "covid_cases = spark.read.parquet(os.path.join(output_data, 'covid_cases.parquet'))"
   ]
  },
  {
   "cell_type": "code",
   "execution_count": 54,
   "metadata": {
    "editable": true
   },
   "outputs": [
    {
     "name": "stdout",
     "output_type": "stream",
     "text": [
      "+------------+----------------------+----------------------------+\n",
      "|country_name|sum(people_vaccinated)|sum(people_fully_vaccinated)|\n",
      "+------------+----------------------+----------------------------+\n",
      "|      Greece|           13103729886|                  5987932442|\n",
      "+------------+----------------------+----------------------------+\n",
      "\n"
     ]
    }
   ],
   "source": [
    "Vaccinations.join(countries,countries.country_code == Vaccinations.country_code)\\\n",
    "    .select(countries.country_name,Vaccinations.people_vaccinated,Vaccinations.people_fully_vaccinated).groupBy('country_name')\\\n",
    ".sum('people_vaccinated','people_fully_vaccinated').where(countries.country_name == 'Greece').show()\n"
   ]
  },
  {
   "cell_type": "markdown",
   "metadata": {
    "editable": true
   },
   "source": [
    "We can also check Greece's num covid cases and deaths"
   ]
  },
  {
   "cell_type": "code",
   "execution_count": 56,
   "metadata": {
    "editable": true
   },
   "outputs": [
    {
     "name": "stdout",
     "output_type": "stream",
     "text": [
      "+------------+-----------+------------+\n",
      "|country_name|total_cases|total_deaths|\n",
      "+------------+-----------+------------+\n",
      "|      Greece|     362004|       11029|\n",
      "+------------+-----------+------------+\n",
      "only showing top 1 row\n",
      "\n"
     ]
    }
   ],
   "source": [
    "covid_cases.join(countries,countries.country_code == covid_cases.country_code)\\\n",
    "    .select(countries.country_name,covid_cases.total_cases,covid_cases.total_deaths).where(countries.country_name == 'Greece').show(1)"
   ]
  },
  {
   "cell_type": "markdown",
   "metadata": {
    "editable": true
   },
   "source": [
    "#### 4.3 Data dictionary "
   ]
  },
  {
   "cell_type": "markdown",
   "metadata": {
    "editable": true
   },
   "source": [
    "**/data** -> contains partitioned data outputs (and possibly in the future inputs)\n",
    "\n",
    "**/Covid Vaccines Capstone Project.ipynb** -> contains the main code but in a notebook form\n",
    "\n",
    "**/etl.py** -> contains the main code in .py form. It extracts data from different sources and creates datalake\n",
    "\n",
    "**/Health spendings per country GDPR percentage.csv** -> contains data regarding the GDPR of each country\n"
   ]
  },
  {
   "cell_type": "markdown",
   "metadata": {
    "editable": true
   },
   "source": [
    "#### 5 Project Write Up\n"
   ]
  },
  {
   "cell_type": "markdown",
   "metadata": {
    "editable": true
   },
   "source": [
    "This sums our work. Here some things to keep in mind:\n",
    "* Due to the high volume of the data (covid cases >1 milion instances) we chose to utilize sparks distributed power. The datalake will be able to provide data for queries and other BI tools.\n",
    "\n",
    "* The data is updated automatically because it comes directly from the sources. Regarding the GDPR data, it can be updated every year. \n",
    "\n",
    "* If the data was increased by 100x it would be wize to utilize aws EMR capabilities and run in a powerfull computer.\n",
    "* The pipeline should be running everyday at ~ 06:00 am since the data is updated before that by the internet sources\n",
    "* Airflow can be used as well to perform this feat.\n",
    "* There is no restrction for the amount of user who can use this data."
   ]
  },
  {
   "cell_type": "code",
   "execution_count": null,
   "metadata": {
    "editable": true
   },
   "outputs": [],
   "source": []
  },
  {
   "cell_type": "code",
   "execution_count": null,
   "metadata": {
    "editable": true
   },
   "outputs": [],
   "source": []
  },
  {
   "cell_type": "code",
   "execution_count": null,
   "metadata": {
    "editable": true
   },
   "outputs": [],
   "source": []
  },
  {
   "cell_type": "code",
   "execution_count": null,
   "metadata": {
    "editable": true
   },
   "outputs": [],
   "source": []
  },
  {
   "cell_type": "code",
   "execution_count": null,
   "metadata": {
    "editable": true
   },
   "outputs": [],
   "source": []
  }
 ],
 "metadata": {
  "kernelspec": {
   "display_name": "Python 3",
   "language": "python",
   "name": "python3"
  },
  "language_info": {
   "codemirror_mode": {
    "name": "ipython",
    "version": 3
   },
   "file_extension": ".py",
   "mimetype": "text/x-python",
   "name": "python",
   "nbconvert_exporter": "python",
   "pygments_lexer": "ipython3",
   "version": "3.6.3"
  }
 },
 "nbformat": 4,
 "nbformat_minor": 4
}
